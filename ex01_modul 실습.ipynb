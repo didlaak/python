{
 "cells": [
  {
   "cell_type": "code",
   "execution_count": 2,
   "id": "91f3b8cb",
   "metadata": {
    "ExecuteTime": {
     "end_time": "2022-12-06T05:40:25.674469Z",
     "start_time": "2022-12-06T05:40:25.656794Z"
    }
   },
   "outputs": [],
   "source": [
    "import cal_key  as ck"
   ]
  },
  {
   "cell_type": "code",
   "execution_count": 3,
   "id": "a96bf058",
   "metadata": {
    "ExecuteTime": {
     "end_time": "2022-12-06T05:40:28.608120Z",
     "start_time": "2022-12-06T05:40:28.593192Z"
    }
   },
   "outputs": [
    {
     "data": {
      "text/plain": [
       "30"
      ]
     },
     "execution_count": 3,
     "metadata": {},
     "output_type": "execute_result"
    }
   ],
   "source": [
    "# 더하기 기능 실행해보기\n",
    "ck.add(10, 20) # 함수 속성을 확인 : shift + tab"
   ]
  },
  {
   "cell_type": "code",
   "execution_count": 4,
   "id": "cce2fdfe",
   "metadata": {
    "ExecuteTime": {
     "end_time": "2022-12-06T05:40:29.182130Z",
     "start_time": "2022-12-06T05:40:29.169159Z"
    }
   },
   "outputs": [
    {
     "data": {
      "text/plain": [
       "-10"
      ]
     },
     "execution_count": 4,
     "metadata": {},
     "output_type": "execute_result"
    }
   ],
   "source": [
    "# 빼기 기능 실행해보기\n",
    "ck.sub(25, 35) "
   ]
  },
  {
   "cell_type": "code",
   "execution_count": 5,
   "id": "033fbef9",
   "metadata": {
    "ExecuteTime": {
     "end_time": "2022-12-06T05:40:59.254210Z",
     "start_time": "2022-12-06T05:40:59.241117Z"
    }
   },
   "outputs": [],
   "source": [
    "from cal_key import mul"
   ]
  },
  {
   "cell_type": "code",
   "execution_count": 6,
   "id": "30999566",
   "metadata": {
    "ExecuteTime": {
     "end_time": "2022-12-06T05:41:04.705008Z",
     "start_time": "2022-12-06T05:41:04.688008Z"
    }
   },
   "outputs": [
    {
     "data": {
      "text/plain": [
       "24"
      ]
     },
     "execution_count": 6,
     "metadata": {},
     "output_type": "execute_result"
    }
   ],
   "source": [
    "mul(12, 2)"
   ]
  },
  {
   "cell_type": "code",
   "execution_count": null,
   "id": "2704dba2",
   "metadata": {},
   "outputs": [],
   "source": []
  },
  {
   "cell_type": "code",
   "execution_count": null,
   "id": "3e54d74c",
   "metadata": {},
   "outputs": [],
   "source": []
  },
  {
   "cell_type": "code",
   "execution_count": null,
   "id": "878aa89d",
   "metadata": {},
   "outputs": [],
   "source": []
  },
  {
   "cell_type": "code",
   "execution_count": null,
   "id": "3e0abb99",
   "metadata": {},
   "outputs": [],
   "source": []
  },
  {
   "cell_type": "code",
   "execution_count": null,
   "id": "9d98851c",
   "metadata": {},
   "outputs": [],
   "source": []
  },
  {
   "cell_type": "code",
   "execution_count": null,
   "id": "f2d63abb",
   "metadata": {},
   "outputs": [],
   "source": []
  }
 ],
 "metadata": {
  "kernelspec": {
   "display_name": "Python 3 (ipykernel)",
   "language": "python",
   "name": "python3"
  },
  "language_info": {
   "codemirror_mode": {
    "name": "ipython",
    "version": 3
   },
   "file_extension": ".py",
   "mimetype": "text/x-python",
   "name": "python",
   "nbconvert_exporter": "python",
   "pygments_lexer": "ipython3",
   "version": "3.9.13"
  },
  "toc": {
   "base_numbering": 1,
   "nav_menu": {},
   "number_sections": true,
   "sideBar": true,
   "skip_h1_title": false,
   "title_cell": "Table of Contents",
   "title_sidebar": "Contents",
   "toc_cell": false,
   "toc_position": {},
   "toc_section_display": true,
   "toc_window_display": false
  }
 },
 "nbformat": 4,
 "nbformat_minor": 5
}
