{
 "cells": [
  {
   "cell_type": "markdown",
   "id": "21842770",
   "metadata": {},
   "source": [
    "### 목표\n",
    " - 데이터를 학습시켜 모델에게 and, xor 연산 패턴을 찾는다\n",
    " - 기본적인 머신러닝 과정을 이해한다"
   ]
  },
  {
   "cell_type": "code",
   "execution_count": 1,
   "id": "d8b8ced0",
   "metadata": {
    "ExecuteTime": {
     "end_time": "2023-01-25T01:50:07.392148Z",
     "start_time": "2023-01-25T01:50:06.525934Z"
    }
   },
   "outputs": [],
   "source": [
    "import pandas as pd"
   ]
  },
  {
   "cell_type": "code",
   "execution_count": 3,
   "id": "b4093641",
   "metadata": {
    "ExecuteTime": {
     "end_time": "2023-01-25T02:04:54.027047Z",
     "start_time": "2023-01-25T02:04:53.994840Z"
    }
   },
   "outputs": [
    {
     "data": {
      "text/html": [
       "<div>\n",
       "<style scoped>\n",
       "    .dataframe tbody tr th:only-of-type {\n",
       "        vertical-align: middle;\n",
       "    }\n",
       "\n",
       "    .dataframe tbody tr th {\n",
       "        vertical-align: top;\n",
       "    }\n",
       "\n",
       "    .dataframe thead th {\n",
       "        text-align: right;\n",
       "    }\n",
       "</style>\n",
       "<table border=\"1\" class=\"dataframe\">\n",
       "  <thead>\n",
       "    <tr style=\"text-align: right;\">\n",
       "      <th></th>\n",
       "      <th>A</th>\n",
       "      <th>B</th>\n",
       "      <th>AandB</th>\n",
       "    </tr>\n",
       "  </thead>\n",
       "  <tbody>\n",
       "    <tr>\n",
       "      <th>0</th>\n",
       "      <td>0</td>\n",
       "      <td>0</td>\n",
       "      <td>0</td>\n",
       "    </tr>\n",
       "    <tr>\n",
       "      <th>1</th>\n",
       "      <td>0</td>\n",
       "      <td>1</td>\n",
       "      <td>0</td>\n",
       "    </tr>\n",
       "    <tr>\n",
       "      <th>2</th>\n",
       "      <td>1</td>\n",
       "      <td>0</td>\n",
       "      <td>0</td>\n",
       "    </tr>\n",
       "    <tr>\n",
       "      <th>3</th>\n",
       "      <td>1</td>\n",
       "      <td>1</td>\n",
       "      <td>1</td>\n",
       "    </tr>\n",
       "  </tbody>\n",
       "</table>\n",
       "</div>"
      ],
      "text/plain": [
       "   A  B  AandB\n",
       "0  0  0      0\n",
       "1  0  1      0\n",
       "2  1  0      0\n",
       "3  1  1      1"
      ]
     },
     "execution_count": 3,
     "metadata": {},
     "output_type": "execute_result"
    }
   ],
   "source": [
    "data={'A':[0,0,1,1],\n",
    "    'B':[0,1,0,1],\n",
    "    'AandB':[0,0,0,1]}\n",
    "df = pd.DataFrame(data)\n",
    "df"
   ]
  },
  {
   "cell_type": "markdown",
   "id": "ef0eaf12",
   "metadata": {},
   "source": [
    "#### 문제와 답으로 분리\n",
    " - X : 문제 = 속성 = 특성 = 특징 = 피쳐(feature) - 2차원이라 대문자 X\n",
    " - y : 답 = 레이블(lable) = 타겟(target) - 1차원이라 소문자 y"
   ]
  },
  {
   "cell_type": "code",
   "execution_count": 6,
   "id": "558d2f43",
   "metadata": {
    "ExecuteTime": {
     "end_time": "2023-01-25T02:16:12.298371Z",
     "start_time": "2023-01-25T02:16:12.288640Z"
    }
   },
   "outputs": [],
   "source": [
    "X = df[['A','B']]\n",
    "X = df.loc[:,['A','B']]\n",
    "X = df.loc[:,'A':'B']\n",
    "X = df.iloc[:,[0,1]]\n",
    "# 훈련데이터의 경우 train으로 구분\n",
    "X_train = df.iloc[:,:2]\n",
    "\n",
    "y_train = df['AandB']"
   ]
  },
  {
   "cell_type": "code",
   "execution_count": 8,
   "id": "a0ad5629",
   "metadata": {
    "ExecuteTime": {
     "end_time": "2023-01-25T02:17:45.407042Z",
     "start_time": "2023-01-25T02:17:45.402162Z"
    }
   },
   "outputs": [
    {
     "name": "stdout",
     "output_type": "stream",
     "text": [
      "(4, 2)\n",
      "(4,)\n"
     ]
    }
   ],
   "source": [
    "# 크기확인 \n",
    "print(X_train.shape)\n",
    "print(y_train.shape)"
   ]
  },
  {
   "cell_type": "markdown",
   "id": "a2eb633e",
   "metadata": {},
   "source": [
    "#### ML 모델 학습"
   ]
  },
  {
   "cell_type": "code",
   "execution_count": 12,
   "id": "d20a5384",
   "metadata": {
    "ExecuteTime": {
     "end_time": "2023-01-25T02:22:04.105415Z",
     "start_time": "2023-01-25T02:22:04.100536Z"
    }
   },
   "outputs": [],
   "source": [
    "# scikit-learn 머신러니용 패키지 라이브러리\n",
    "from sklearn.neighbors import KNeighborsClassifier # 분류모델"
   ]
  },
  {
   "cell_type": "code",
   "execution_count": 15,
   "id": "9cd218de",
   "metadata": {
    "ExecuteTime": {
     "end_time": "2023-01-25T02:26:26.141395Z",
     "start_time": "2023-01-25T02:26:26.137491Z"
    }
   },
   "outputs": [],
   "source": [
    "# 모델 객체 생성 + Hyper Parameter 설정\n",
    "knn_model = KNeighborsClassifier(n_neighbors=1)\n",
    "\n",
    "# KNN 최근접 이웃 알고리즘\n",
    "# 문제 데이터와 가장 가까운 이웃 데이터와 실제 답을 확인하여 결과를 예측하는 모델"
   ]
  },
  {
   "cell_type": "code",
   "execution_count": 24,
   "id": "d2aa99dd",
   "metadata": {
    "ExecuteTime": {
     "end_time": "2023-01-26T00:24:52.291950Z",
     "start_time": "2023-01-26T00:24:52.146872Z"
    }
   },
   "outputs": [
    {
     "data": {
      "text/plain": [
       "KNeighborsClassifier(n_neighbors=1)"
      ]
     },
     "execution_count": 24,
     "metadata": {},
     "output_type": "execute_result"
    }
   ],
   "source": [
    "# 모델 학습\n",
    "# fit (학습용 문제, 학습용 답) : 데이터에 맞춰서 모델이 학습한다.\n",
    "knn_model.fit(X_train,y_train)"
   ]
  },
  {
   "cell_type": "code",
   "execution_count": 20,
   "id": "99e93cdd",
   "metadata": {
    "ExecuteTime": {
     "end_time": "2023-01-25T02:33:11.537778Z",
     "start_time": "2023-01-25T02:33:11.511405Z"
    },
    "scrolled": true
   },
   "outputs": [
    {
     "name": "stderr",
     "output_type": "stream",
     "text": [
      "C:\\Users\\SMHRD\\anaconda3\\lib\\site-packages\\sklearn\\base.py:450: UserWarning: X does not have valid feature names, but KNeighborsClassifier was fitted with feature names\n",
      "  warnings.warn(\n",
      "C:\\Users\\SMHRD\\anaconda3\\lib\\site-packages\\sklearn\\neighbors\\_classification.py:228: FutureWarning: Unlike other reduction functions (e.g. `skew`, `kurtosis`), the default behavior of `mode` typically preserves the axis it acts along. In SciPy 1.11.0, this behavior will change: the default value of `keepdims` will become False, the `axis` over which the statistic is taken will be eliminated, and the value None will no longer be accepted. Set `keepdims` to True or False to avoid this warning.\n",
      "  mode, _ = stats.mode(_y[neigh_ind, k], axis=1)\n"
     ]
    },
    {
     "data": {
      "text/plain": [
       "array([0, 1], dtype=int64)"
      ]
     },
     "execution_count": 20,
     "metadata": {},
     "output_type": "execute_result"
    }
   ],
   "source": [
    "# 예측\n",
    "# predict(X_test) 테스트용 문제\n",
    "# 임의의 데이터 [[0,1],[1,1]]\n",
    "# 실제 답 [0,1]\n",
    "pre = knn_model.predict([[0,1],[1,1]])\n",
    "pre"
   ]
  },
  {
   "cell_type": "code",
   "execution_count": 23,
   "id": "392de882",
   "metadata": {
    "ExecuteTime": {
     "end_time": "2023-01-25T02:36:04.596599Z",
     "start_time": "2023-01-25T02:36:04.591719Z"
    }
   },
   "outputs": [
    {
     "data": {
      "text/plain": [
       "100.0"
      ]
     },
     "execution_count": 23,
     "metadata": {},
     "output_type": "execute_result"
    }
   ],
   "source": [
    "# 평가\n",
    "from sklearn.metrics import accuracy_score\n",
    "accuracy_score(pre,[0,1]) * 100"
   ]
  },
  {
   "cell_type": "code",
   "execution_count": null,
   "id": "e4c7d16d",
   "metadata": {},
   "outputs": [],
   "source": []
  },
  {
   "cell_type": "code",
   "execution_count": null,
   "id": "78f3bfd5",
   "metadata": {},
   "outputs": [],
   "source": []
  },
  {
   "cell_type": "code",
   "execution_count": null,
   "id": "48d621e1",
   "metadata": {},
   "outputs": [],
   "source": []
  },
  {
   "cell_type": "code",
   "execution_count": null,
   "id": "fc2e4a2f",
   "metadata": {},
   "outputs": [],
   "source": []
  },
  {
   "cell_type": "code",
   "execution_count": null,
   "id": "98557222",
   "metadata": {},
   "outputs": [],
   "source": []
  },
  {
   "cell_type": "code",
   "execution_count": null,
   "id": "5147856c",
   "metadata": {},
   "outputs": [],
   "source": []
  },
  {
   "cell_type": "code",
   "execution_count": null,
   "id": "1a6d0dac",
   "metadata": {},
   "outputs": [],
   "source": []
  },
  {
   "cell_type": "code",
   "execution_count": null,
   "id": "6da6af08",
   "metadata": {},
   "outputs": [],
   "source": []
  },
  {
   "cell_type": "code",
   "execution_count": null,
   "id": "f5b6b812",
   "metadata": {},
   "outputs": [],
   "source": []
  },
  {
   "cell_type": "code",
   "execution_count": null,
   "id": "ff3deb87",
   "metadata": {},
   "outputs": [],
   "source": []
  },
  {
   "cell_type": "code",
   "execution_count": null,
   "id": "3b3ccdc7",
   "metadata": {},
   "outputs": [],
   "source": []
  }
 ],
 "metadata": {
  "kernelspec": {
   "display_name": "Python 3 (ipykernel)",
   "language": "python",
   "name": "python3"
  },
  "language_info": {
   "codemirror_mode": {
    "name": "ipython",
    "version": 3
   },
   "file_extension": ".py",
   "mimetype": "text/x-python",
   "name": "python",
   "nbconvert_exporter": "python",
   "pygments_lexer": "ipython3",
   "version": "3.9.13"
  },
  "toc": {
   "base_numbering": 1,
   "nav_menu": {},
   "number_sections": true,
   "sideBar": true,
   "skip_h1_title": false,
   "title_cell": "Table of Contents",
   "title_sidebar": "Contents",
   "toc_cell": false,
   "toc_position": {},
   "toc_section_display": true,
   "toc_window_display": false
  }
 },
 "nbformat": 4,
 "nbformat_minor": 5
}
